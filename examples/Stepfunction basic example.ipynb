{
 "cells": [
  {
   "cell_type": "code",
   "execution_count": 1,
   "metadata": {},
   "outputs": [],
   "source": [
    "library(stepfunctions)\n",
    "\n",
    "stepfunctions_execution_role=\"dummy-role\""
   ]
  },
  {
   "cell_type": "markdown",
   "metadata": {},
   "source": [
    "Set up 2 basic states: Pass and Wait"
   ]
  },
  {
   "cell_type": "code",
   "execution_count": 2,
   "metadata": {},
   "outputs": [],
   "source": [
    "start_pass_state = Pass$new(\n",
    "  state_id=\"MyPassState\"\n",
    ")\n",
    "\n",
    "wait_state = Wait$new(\n",
    "  state_id=\"Wait for 3 seconds\",\n",
    "  seconds=3\n",
    ")"
   ]
  },
  {
   "cell_type": "markdown",
   "metadata": {},
   "source": [
    "Step up Lambda with Retry and Catch"
   ]
  },
  {
   "cell_type": "code",
   "execution_count": 3,
   "metadata": {},
   "outputs": [],
   "source": [
    "lambda_state = LambdaStep$new(\n",
    "  state_id=\"Convert HelloWorld to Base64\",\n",
    "  parameters=list(\n",
    "    \"FunctionName\"=\"MyLambda\", #replace with the name of your function\n",
    "    \"Payload\"=list(\n",
    "      \"input\"=\"HelloWorld\")\n",
    "  )\n",
    ")\n",
    "\n",
    "lambda_state$add_retry(Retry$new(\n",
    "  error_equals=list(\"States.TaskFailed\"),\n",
    "  interval_seconds=15,\n",
    "  max_attempts=2,\n",
    "  backoff_rate=4.0\n",
    "))\n",
    "\n",
    "lambda_state$add_catch(Catch$new(\n",
    "  error_equals=list(\"States.TaskFailed\"),\n",
    "  next_step=Fail$new(\"LambdaTaskFailed\")\n",
    "))"
   ]
  },
  {
   "cell_type": "markdown",
   "metadata": {},
   "source": [
    "Set up Workflow"
   ]
  },
  {
   "cell_type": "code",
   "execution_count": 4,
   "metadata": {},
   "outputs": [],
   "source": [
    "workflow_definition=Chain$new(list(start_pass_state, wait_state, lambda_state))\n",
    "\n",
    "workflow = Workflow$new(\n",
    "    name=\"MyWorkflow_v1234\",\n",
    "    definition=workflow_definition,\n",
    "    role=stepfunctions_execution_role\n",
    ")"
   ]
  },
  {
   "cell_type": "code",
   "execution_count": 5,
   "metadata": {
    "scrolled": true
   },
   "outputs": [
    {
     "data": {
      "text/html": [
       "<link rel=\"stylesheet\" type=\"text/css\" href=\"https://do0of8uwbahzz.cloudfront.net/graph.css\">\n",
       "<div id=\"graph-779\" class=\"workflowgraph\">\n",
       "    \n",
       "    <svg></svg>\n",
       "    \n",
       "</div>\n",
       "<script type=\"text/javascript\">\n",
       "\n",
       "require.config({\n",
       "    paths: {\n",
       "        sfn: \"https://do0of8uwbahzz.cloudfront.net/sfn\",\n",
       "    }\n",
       "});\n",
       "require(['sfn'], function(sfn) {\n",
       "    var element = document.getElementById('graph-779')\n",
       "    var options = {\n",
       "        width: parseFloat(getComputedStyle(element, null).width.replace(\"px\", \"\")),\n",
       "        height: 600,\n",
       "        layout: 'LR',\n",
       "        resizeHeight: true\n",
       "    };\n",
       "    var definition = {\"StartAt\":\"MyPassState\",\"States\":{\"MyPassState\":{\"Type\":\"Pass\",\"Next\":\"Wait for 3 seconds\"},\"Wait for 3 seconds\":{\"Seconds\":3,\"Type\":\"Wait\",\"Next\":\"Convert HelloWorld to Base64\"},\"Convert HelloWorld to Base64\":{\"Parameters\":{\"FunctionName\":\"MyLambda\",\"Payload\":{\"input\":\"HelloWorld\"}},\"Resource\":\"arn:aws:states:::lambda:invoke\",\"Type\":\"Task\",\"End\":true,\"Retry\":[{\"Error_equals\":[\"States.TaskFailed\"],\"Interval_seconds\":15,\"Max_attempts\":2,\"Backoff_rate\":4}],\"Catch\":[{\"Error_equals\":\"States.TaskFailed\",\"Next\":\"LambdaTaskFailed\"}]},\"LambdaTaskFailed\":{\"Type\":\"Fail\"}}};\n",
       "    var elementId = '#graph-779';\n",
       "    var graph = new sfn.StateMachineGraph(definition, elementId, options);\n",
       "    graph.render();\n",
       "});\n",
       "\n",
       "</script>"
      ]
     },
     "metadata": {},
     "output_type": "display_data"
    }
   ],
   "source": [
    "workflow$render_graph()"
   ]
  }
 ],
 "metadata": {
  "kernelspec": {
   "display_name": "R 4.0",
   "language": "R",
   "name": "ir40"
  },
  "language_info": {
   "codemirror_mode": "r",
   "file_extension": ".r",
   "mimetype": "text/x-r-source",
   "name": "R",
   "pygments_lexer": "r",
   "version": "4.0.3"
  }
 },
 "nbformat": 4,
 "nbformat_minor": 4
}
